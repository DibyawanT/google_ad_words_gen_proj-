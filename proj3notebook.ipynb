{
 "cells": [
  {
   "cell_type": "markdown",
   "metadata": {},
   "source": [
    "# 1. The brief\n",
    "Imagine working for a digital marketing agency, and the agency is approached by a massive online retailer of furniture. They want to test our skills at creating large campaigns for all of their website. We are tasked with creating a prototype set of keywords for search campaigns for their sofas section. The client says that they want us to generate keywords for the following products:\n",
    "    >Sofas\n",
    "    \n",
    "    >Beds\n",
    "    \n",
    "    >Tables\n",
    "    \n",
    "    >Chairs\n",
    "    \n",
    "    >Sofa Beds\n",
    "    \n",
    "The brief: The client is generally a low-cost retailer, offering many promotions and discounts. We will need to focus on such keywords. We will also need to move away from luxury keywords and topics, as we are targeting price-sensitive customers. Because we are going to be tight on budget, it would be good to focus on a tightly targeted set of keywords and make sure they are all set to exact and phrase match.\n",
    "\n",
    "Based on the brief above we will first need to generate a list of words, that together with the products given above would make for good keywords. Here are some examples:\n",
    "\n",
    "Products: sofas, recliners\n",
    "Words: buy, prices\n",
    "The resulting keywords: 'buy sofas', 'sofas buy', 'buy recliners', 'recliners buy', 'prices sofas', 'sofas prices', 'prices recliners', 'recliners prices'.\n",
    "    "
   ]
  },
  {
   "cell_type": "code",
   "execution_count": 5,
   "metadata": {},
   "outputs": [],
   "source": [
    "import pandas as pd\n",
    "import numpy as np"
   ]
  },
  {
   "cell_type": "code",
   "execution_count": 6,
   "metadata": {},
   "outputs": [
    {
     "data": {
      "text/plain": [
       "['buy',\n",
       " 'price',\n",
       " 'discount',\n",
       " 'promotion',\n",
       " 'promo',\n",
       " 'shop',\n",
       " 'buying',\n",
       " 'prices',\n",
       " 'pricing',\n",
       " 'shopping',\n",
       " 'discounts',\n",
       " 'promos',\n",
       " 'ecommerce',\n",
       " 'e commerce',\n",
       " 'buy online',\n",
       " 'shop online',\n",
       " 'cheap',\n",
       " 'best price',\n",
       " 'lowest price',\n",
       " 'cheapest',\n",
       " 'best value',\n",
       " 'offer',\n",
       " 'offers',\n",
       " 'promotions',\n",
       " 'purchase',\n",
       " 'sale',\n",
       " 'bargain',\n",
       " 'affordable',\n",
       " 'cheap',\n",
       " 'low',\n",
       " 'budget',\n",
       " 'inexpensive',\n",
       " 'economical',\n",
       " 'amazon',\n",
       " 'e-commerce']"
      ]
     },
     "execution_count": 6,
     "metadata": {},
     "output_type": "execute_result"
    }
   ],
   "source": [
    "words = ['buy', 'price', 'discount', 'promotion', 'promo', 'shop', \n",
    "         'buying', 'prices', 'pricing', 'shopping', 'discounts', \n",
    "         'promos', 'ecommerce', 'e commerce', 'buy online',\n",
    "         'shop online', 'cheap', 'best price', 'lowest price',\n",
    "         'cheapest', 'best value', 'offer', 'offers', 'promotions',\n",
    "         'purchase', 'sale', 'bargain', 'affordable',\n",
    "         'cheap', 'low', 'budget', 'inexpensive', 'economical','amazon','e-commerce']\n",
    "# Print list of words\n",
    "words"
   ]
  },
  {
   "cell_type": "markdown",
   "metadata": {},
   "source": [
    "# 2. Combine the words with the product names\n",
    "Imagining all the possible combinations of keywords can be stressful! But not for us, because we are keyword ninjas! We know how to translate campaign briefs into Python data structures and can imagine the resulting DataFrames that we need to create.\n",
    "\n",
    "Now that we have brainstormed the words that work well with the brief that we received, it is now time to combine them with the product names to generate meaningful search keywords. We want to combine every word with every product once before, and once after, as seen in the example above.\n",
    "\n",
    "As a quick reminder, for the product 'recliners' and the words 'buy' and 'price' for example, we would want to generate the following combinations:\n",
    "\n",
    "buy beds\n",
    "\n",
    "beds buy\n",
    "\n",
    "price recliners\n",
    "\n",
    "chair price"
   ]
  },
  {
   "cell_type": "code",
   "execution_count": 8,
   "metadata": {},
   "outputs": [
    {
     "name": "stdout",
     "output_type": "stream",
     "text": [
      "[['sofas', 'sofas buy'], ['sofas', 'buy sofas'], ['sofas', 'sofas price'], ['sofas', 'price sofas'], ['sofas', 'sofas discount'], ['sofas', 'discount sofas'], ['sofas', 'sofas promotion'], ['sofas', 'promotion sofas'], ['sofas', 'sofas promo'], ['sofas', 'promo sofas'], ['sofas', 'sofas shop'], ['sofas', 'shop sofas'], ['sofas', 'sofas buying'], ['sofas', 'buying sofas'], ['sofas', 'sofas prices'], ['sofas', 'prices sofas'], ['sofas', 'sofas pricing'], ['sofas', 'pricing sofas'], ['sofas', 'sofas shopping'], ['sofas', 'shopping sofas'], ['sofas', 'sofas discounts'], ['sofas', 'discounts sofas'], ['sofas', 'sofas promos'], ['sofas', 'promos sofas'], ['sofas', 'sofas ecommerce'], ['sofas', 'ecommerce sofas'], ['sofas', 'sofas e commerce'], ['sofas', 'e commerce sofas'], ['sofas', 'sofas buy online'], ['sofas', 'buy online sofas'], ['sofas', 'sofas shop online'], ['sofas', 'shop online sofas'], ['sofas', 'sofas cheap'], ['sofas', 'cheap sofas'], ['sofas', 'sofas best price'], ['sofas', 'best price sofas'], ['sofas', 'sofas lowest price'], ['sofas', 'lowest price sofas'], ['sofas', 'sofas cheapest'], ['sofas', 'cheapest sofas'], ['sofas', 'sofas best value'], ['sofas', 'best value sofas'], ['sofas', 'sofas offer'], ['sofas', 'offer sofas'], ['sofas', 'sofas offers'], ['sofas', 'offers sofas'], ['sofas', 'sofas promotions'], ['sofas', 'promotions sofas'], ['sofas', 'sofas purchase'], ['sofas', 'purchase sofas'], ['sofas', 'sofas sale'], ['sofas', 'sale sofas'], ['sofas', 'sofas bargain'], ['sofas', 'bargain sofas'], ['sofas', 'sofas affordable'], ['sofas', 'affordable sofas'], ['sofas', 'sofas cheap'], ['sofas', 'cheap sofas'], ['sofas', 'sofas low'], ['sofas', 'low sofas'], ['sofas', 'sofas budget'], ['sofas', 'budget sofas'], ['sofas', 'sofas inexpensive'], ['sofas', 'inexpensive sofas'], ['sofas', 'sofas economical'], ['sofas', 'economical sofas'], ['sofas', 'sofas amazon'], ['sofas', 'amazon sofas'], ['sofas', 'sofas e-commerce'], ['sofas', 'e-commerce sofas'], ['beds', 'beds buy'], ['beds', 'buy beds'], ['beds', 'beds price'], ['beds', 'price beds'], ['beds', 'beds discount'], ['beds', 'discount beds'], ['beds', 'beds promotion'], ['beds', 'promotion beds'], ['beds', 'beds promo'], ['beds', 'promo beds'], ['beds', 'beds shop'], ['beds', 'shop beds'], ['beds', 'beds buying'], ['beds', 'buying beds'], ['beds', 'beds prices'], ['beds', 'prices beds'], ['beds', 'beds pricing'], ['beds', 'pricing beds'], ['beds', 'beds shopping'], ['beds', 'shopping beds'], ['beds', 'beds discounts'], ['beds', 'discounts beds'], ['beds', 'beds promos'], ['beds', 'promos beds'], ['beds', 'beds ecommerce'], ['beds', 'ecommerce beds'], ['beds', 'beds e commerce'], ['beds', 'e commerce beds'], ['beds', 'beds buy online'], ['beds', 'buy online beds'], ['beds', 'beds shop online'], ['beds', 'shop online beds'], ['beds', 'beds cheap'], ['beds', 'cheap beds'], ['beds', 'beds best price'], ['beds', 'best price beds'], ['beds', 'beds lowest price'], ['beds', 'lowest price beds'], ['beds', 'beds cheapest'], ['beds', 'cheapest beds'], ['beds', 'beds best value'], ['beds', 'best value beds'], ['beds', 'beds offer'], ['beds', 'offer beds'], ['beds', 'beds offers'], ['beds', 'offers beds'], ['beds', 'beds promotions'], ['beds', 'promotions beds'], ['beds', 'beds purchase'], ['beds', 'purchase beds'], ['beds', 'beds sale'], ['beds', 'sale beds'], ['beds', 'beds bargain'], ['beds', 'bargain beds'], ['beds', 'beds affordable'], ['beds', 'affordable beds'], ['beds', 'beds cheap'], ['beds', 'cheap beds'], ['beds', 'beds low'], ['beds', 'low beds'], ['beds', 'beds budget'], ['beds', 'budget beds'], ['beds', 'beds inexpensive'], ['beds', 'inexpensive beds'], ['beds', 'beds economical'], ['beds', 'economical beds'], ['beds', 'beds amazon'], ['beds', 'amazon beds'], ['beds', 'beds e-commerce'], ['beds', 'e-commerce beds'], ['chairs', 'chairs buy'], ['chairs', 'buy chairs'], ['chairs', 'chairs price'], ['chairs', 'price chairs'], ['chairs', 'chairs discount'], ['chairs', 'discount chairs'], ['chairs', 'chairs promotion'], ['chairs', 'promotion chairs'], ['chairs', 'chairs promo'], ['chairs', 'promo chairs'], ['chairs', 'chairs shop'], ['chairs', 'shop chairs'], ['chairs', 'chairs buying'], ['chairs', 'buying chairs'], ['chairs', 'chairs prices'], ['chairs', 'prices chairs'], ['chairs', 'chairs pricing'], ['chairs', 'pricing chairs'], ['chairs', 'chairs shopping'], ['chairs', 'shopping chairs'], ['chairs', 'chairs discounts'], ['chairs', 'discounts chairs'], ['chairs', 'chairs promos'], ['chairs', 'promos chairs'], ['chairs', 'chairs ecommerce'], ['chairs', 'ecommerce chairs'], ['chairs', 'chairs e commerce'], ['chairs', 'e commerce chairs'], ['chairs', 'chairs buy online'], ['chairs', 'buy online chairs'], ['chairs', 'chairs shop online'], ['chairs', 'shop online chairs'], ['chairs', 'chairs cheap'], ['chairs', 'cheap chairs'], ['chairs', 'chairs best price'], ['chairs', 'best price chairs'], ['chairs', 'chairs lowest price'], ['chairs', 'lowest price chairs'], ['chairs', 'chairs cheapest'], ['chairs', 'cheapest chairs'], ['chairs', 'chairs best value'], ['chairs', 'best value chairs'], ['chairs', 'chairs offer'], ['chairs', 'offer chairs'], ['chairs', 'chairs offers'], ['chairs', 'offers chairs'], ['chairs', 'chairs promotions'], ['chairs', 'promotions chairs'], ['chairs', 'chairs purchase'], ['chairs', 'purchase chairs'], ['chairs', 'chairs sale'], ['chairs', 'sale chairs'], ['chairs', 'chairs bargain'], ['chairs', 'bargain chairs'], ['chairs', 'chairs affordable'], ['chairs', 'affordable chairs'], ['chairs', 'chairs cheap'], ['chairs', 'cheap chairs'], ['chairs', 'chairs low'], ['chairs', 'low chairs'], ['chairs', 'chairs budget'], ['chairs', 'budget chairs'], ['chairs', 'chairs inexpensive'], ['chairs', 'inexpensive chairs'], ['chairs', 'chairs economical'], ['chairs', 'economical chairs'], ['chairs', 'chairs amazon'], ['chairs', 'amazon chairs'], ['chairs', 'chairs e-commerce'], ['chairs', 'e-commerce chairs'], ['tables', 'tables buy'], ['tables', 'buy tables'], ['tables', 'tables price'], ['tables', 'price tables'], ['tables', 'tables discount'], ['tables', 'discount tables'], ['tables', 'tables promotion'], ['tables', 'promotion tables'], ['tables', 'tables promo'], ['tables', 'promo tables'], ['tables', 'tables shop'], ['tables', 'shop tables'], ['tables', 'tables buying'], ['tables', 'buying tables'], ['tables', 'tables prices'], ['tables', 'prices tables'], ['tables', 'tables pricing'], ['tables', 'pricing tables'], ['tables', 'tables shopping'], ['tables', 'shopping tables'], ['tables', 'tables discounts'], ['tables', 'discounts tables'], ['tables', 'tables promos'], ['tables', 'promos tables'], ['tables', 'tables ecommerce'], ['tables', 'ecommerce tables'], ['tables', 'tables e commerce'], ['tables', 'e commerce tables'], ['tables', 'tables buy online'], ['tables', 'buy online tables'], ['tables', 'tables shop online'], ['tables', 'shop online tables'], ['tables', 'tables cheap'], ['tables', 'cheap tables'], ['tables', 'tables best price'], ['tables', 'best price tables'], ['tables', 'tables lowest price'], ['tables', 'lowest price tables'], ['tables', 'tables cheapest'], ['tables', 'cheapest tables'], ['tables', 'tables best value'], ['tables', 'best value tables'], ['tables', 'tables offer'], ['tables', 'offer tables'], ['tables', 'tables offers'], ['tables', 'offers tables'], ['tables', 'tables promotions'], ['tables', 'promotions tables'], ['tables', 'tables purchase'], ['tables', 'purchase tables'], ['tables', 'tables sale'], ['tables', 'sale tables'], ['tables', 'tables bargain'], ['tables', 'bargain tables'], ['tables', 'tables affordable'], ['tables', 'affordable tables'], ['tables', 'tables cheap'], ['tables', 'cheap tables'], ['tables', 'tables low'], ['tables', 'low tables'], ['tables', 'tables budget'], ['tables', 'budget tables'], ['tables', 'tables inexpensive'], ['tables', 'inexpensive tables'], ['tables', 'tables economical'], ['tables', 'economical tables'], ['tables', 'tables amazon'], ['tables', 'amazon tables'], ['tables', 'tables e-commerce'], ['tables', 'e-commerce tables'], ['sofa beds', 'sofa beds buy'], ['sofa beds', 'buy sofa beds'], ['sofa beds', 'sofa beds price'], ['sofa beds', 'price sofa beds'], ['sofa beds', 'sofa beds discount'], ['sofa beds', 'discount sofa beds'], ['sofa beds', 'sofa beds promotion'], ['sofa beds', 'promotion sofa beds'], ['sofa beds', 'sofa beds promo'], ['sofa beds', 'promo sofa beds'], ['sofa beds', 'sofa beds shop'], ['sofa beds', 'shop sofa beds'], ['sofa beds', 'sofa beds buying'], ['sofa beds', 'buying sofa beds'], ['sofa beds', 'sofa beds prices'], ['sofa beds', 'prices sofa beds'], ['sofa beds', 'sofa beds pricing'], ['sofa beds', 'pricing sofa beds'], ['sofa beds', 'sofa beds shopping'], ['sofa beds', 'shopping sofa beds'], ['sofa beds', 'sofa beds discounts'], ['sofa beds', 'discounts sofa beds'], ['sofa beds', 'sofa beds promos'], ['sofa beds', 'promos sofa beds'], ['sofa beds', 'sofa beds ecommerce'], ['sofa beds', 'ecommerce sofa beds'], ['sofa beds', 'sofa beds e commerce'], ['sofa beds', 'e commerce sofa beds'], ['sofa beds', 'sofa beds buy online'], ['sofa beds', 'buy online sofa beds'], ['sofa beds', 'sofa beds shop online'], ['sofa beds', 'shop online sofa beds'], ['sofa beds', 'sofa beds cheap'], ['sofa beds', 'cheap sofa beds'], ['sofa beds', 'sofa beds best price'], ['sofa beds', 'best price sofa beds'], ['sofa beds', 'sofa beds lowest price'], ['sofa beds', 'lowest price sofa beds'], ['sofa beds', 'sofa beds cheapest'], ['sofa beds', 'cheapest sofa beds'], ['sofa beds', 'sofa beds best value'], ['sofa beds', 'best value sofa beds'], ['sofa beds', 'sofa beds offer'], ['sofa beds', 'offer sofa beds'], ['sofa beds', 'sofa beds offers'], ['sofa beds', 'offers sofa beds'], ['sofa beds', 'sofa beds promotions'], ['sofa beds', 'promotions sofa beds'], ['sofa beds', 'sofa beds purchase'], ['sofa beds', 'purchase sofa beds'], ['sofa beds', 'sofa beds sale'], ['sofa beds', 'sale sofa beds'], ['sofa beds', 'sofa beds bargain'], ['sofa beds', 'bargain sofa beds'], ['sofa beds', 'sofa beds affordable'], ['sofa beds', 'affordable sofa beds'], ['sofa beds', 'sofa beds cheap'], ['sofa beds', 'cheap sofa beds'], ['sofa beds', 'sofa beds low'], ['sofa beds', 'low sofa beds'], ['sofa beds', 'sofa beds budget'], ['sofa beds', 'budget sofa beds'], ['sofa beds', 'sofa beds inexpensive'], ['sofa beds', 'inexpensive sofa beds'], ['sofa beds', 'sofa beds economical'], ['sofa beds', 'economical sofa beds'], ['sofa beds', 'sofa beds amazon'], ['sofa beds', 'amazon sofa beds'], ['sofa beds', 'sofa beds e-commerce'], ['sofa beds', 'e-commerce sofa beds']]\n"
     ]
    }
   ],
   "source": [
    "products = ['sofas', 'beds', 'chairs', 'tables', 'sofa beds']\n",
    "\n",
    "# Create an empty list\n",
    "keywords_list = []\n",
    "\n",
    "# Loop through products\n",
    "for product in products:\n",
    "    # Loop through words\n",
    "    for word in words:\n",
    "        # Append combinations\n",
    "        keywords_list.append([product, product + ' ' + word])\n",
    "        keywords_list.append([product, word + ' ' + product])\n",
    "        \n",
    "# Inspect keyword list\n",
    "from pprint import pprint\n",
    "print(keywords_list)"
   ]
  },
  {
   "cell_type": "markdown",
   "metadata": {},
   "source": [
    "# 3. Convert the list of lists into a DataFrame\n",
    "Now we want to convert this list of lists into a DataFrame so we can easily manipulate it and manage the final output."
   ]
  },
  {
   "cell_type": "code",
   "execution_count": 10,
   "metadata": {},
   "outputs": [
    {
     "data": {
      "text/html": [
       "<div>\n",
       "<style scoped>\n",
       "    .dataframe tbody tr th:only-of-type {\n",
       "        vertical-align: middle;\n",
       "    }\n",
       "\n",
       "    .dataframe tbody tr th {\n",
       "        vertical-align: top;\n",
       "    }\n",
       "\n",
       "    .dataframe thead th {\n",
       "        text-align: right;\n",
       "    }\n",
       "</style>\n",
       "<table border=\"1\" class=\"dataframe\">\n",
       "  <thead>\n",
       "    <tr style=\"text-align: right;\">\n",
       "      <th></th>\n",
       "      <th>0</th>\n",
       "      <th>1</th>\n",
       "    </tr>\n",
       "  </thead>\n",
       "  <tbody>\n",
       "    <tr>\n",
       "      <th>0</th>\n",
       "      <td>sofas</td>\n",
       "      <td>sofas buy</td>\n",
       "    </tr>\n",
       "    <tr>\n",
       "      <th>1</th>\n",
       "      <td>sofas</td>\n",
       "      <td>buy sofas</td>\n",
       "    </tr>\n",
       "    <tr>\n",
       "      <th>2</th>\n",
       "      <td>sofas</td>\n",
       "      <td>sofas price</td>\n",
       "    </tr>\n",
       "    <tr>\n",
       "      <th>3</th>\n",
       "      <td>sofas</td>\n",
       "      <td>price sofas</td>\n",
       "    </tr>\n",
       "    <tr>\n",
       "      <th>4</th>\n",
       "      <td>sofas</td>\n",
       "      <td>sofas discount</td>\n",
       "    </tr>\n",
       "  </tbody>\n",
       "</table>\n",
       "</div>"
      ],
      "text/plain": [
       "       0               1\n",
       "0  sofas       sofas buy\n",
       "1  sofas       buy sofas\n",
       "2  sofas     sofas price\n",
       "3  sofas     price sofas\n",
       "4  sofas  sofas discount"
      ]
     },
     "execution_count": 10,
     "metadata": {},
     "output_type": "execute_result"
    }
   ],
   "source": [
    "# Load library\n",
    "import pandas as pd\n",
    "\n",
    "# Create a DataFrame from list\n",
    "keywords_df = pd.DataFrame.from_records(keywords_list)\n",
    "\n",
    "# Print the keywords DataFrame to explore it\n",
    "keywords_df.head()"
   ]
  },
  {
   "cell_type": "markdown",
   "metadata": {},
   "source": [
    "# 4. Rename the columns of the DataFrame\n",
    "Before we can upload this table of keywords, we will need to give the columns meaningful names. If we inspect the DataFrame we just created above, we can see that the columns are currently named 0 and 1. Ad Group (example: \"sofas\") and Keyword (example: \"sofas buy\") are much more appropriate names."
   ]
  },
  {
   "cell_type": "code",
   "execution_count": 11,
   "metadata": {},
   "outputs": [
    {
     "data": {
      "text/html": [
       "<div>\n",
       "<style scoped>\n",
       "    .dataframe tbody tr th:only-of-type {\n",
       "        vertical-align: middle;\n",
       "    }\n",
       "\n",
       "    .dataframe tbody tr th {\n",
       "        vertical-align: top;\n",
       "    }\n",
       "\n",
       "    .dataframe thead th {\n",
       "        text-align: right;\n",
       "    }\n",
       "</style>\n",
       "<table border=\"1\" class=\"dataframe\">\n",
       "  <thead>\n",
       "    <tr style=\"text-align: right;\">\n",
       "      <th></th>\n",
       "      <th>Ad Group</th>\n",
       "      <th>Keyword</th>\n",
       "    </tr>\n",
       "  </thead>\n",
       "  <tbody>\n",
       "    <tr>\n",
       "      <th>0</th>\n",
       "      <td>sofas</td>\n",
       "      <td>sofas buy</td>\n",
       "    </tr>\n",
       "    <tr>\n",
       "      <th>1</th>\n",
       "      <td>sofas</td>\n",
       "      <td>buy sofas</td>\n",
       "    </tr>\n",
       "    <tr>\n",
       "      <th>2</th>\n",
       "      <td>sofas</td>\n",
       "      <td>sofas price</td>\n",
       "    </tr>\n",
       "    <tr>\n",
       "      <th>3</th>\n",
       "      <td>sofas</td>\n",
       "      <td>price sofas</td>\n",
       "    </tr>\n",
       "    <tr>\n",
       "      <th>4</th>\n",
       "      <td>sofas</td>\n",
       "      <td>sofas discount</td>\n",
       "    </tr>\n",
       "  </tbody>\n",
       "</table>\n",
       "</div>"
      ],
      "text/plain": [
       "  Ad Group         Keyword\n",
       "0    sofas       sofas buy\n",
       "1    sofas       buy sofas\n",
       "2    sofas     sofas price\n",
       "3    sofas     price sofas\n",
       "4    sofas  sofas discount"
      ]
     },
     "execution_count": 11,
     "metadata": {},
     "output_type": "execute_result"
    }
   ],
   "source": [
    "# Rename the columns of the DataFrame\n",
    "keywords_df = keywords_df.rename(columns={0: \"Ad Group\",1: \"Keyword\"})\n",
    "keywords_df.head()"
   ]
  },
  {
   "cell_type": "markdown",
   "metadata": {},
   "source": [
    "# 5. Add a campaign column\n",
    "Now we need to add some additional information to our DataFrame. We need a new column called Campaign for the campaign name. We want campaign names to be descriptive of our group of keywords and products, so let's call this campaign 'SEM_Sofas'."
   ]
  },
  {
   "cell_type": "code",
   "execution_count": 15,
   "metadata": {},
   "outputs": [],
   "source": [
    "# Add a campaign column\n",
    "keywords_df['Campaign']='SEM_Sofas'"
   ]
  },
  {
   "cell_type": "markdown",
   "metadata": {},
   "source": [
    "# 6. Create the match type column\n",
    "There are different keyword match types. One is exact match, which is for matching the exact term or are close variations of that exact term. Another match type is broad match, which means ads may show on searches that include misspellings, synonyms, related searches, and other relevant variations."
   ]
  },
  {
   "cell_type": "code",
   "execution_count": 16,
   "metadata": {},
   "outputs": [],
   "source": [
    "# Add a criterion type column\n",
    "keywords_df['Criterion Type']='Exact'"
   ]
  },
  {
   "cell_type": "markdown",
   "metadata": {},
   "source": [
    "# 7. Duplicate all the keywords into 'phrase' match\n",
    "The great thing about exact match is that it is very specific, and we can control the process very well. The tradeoff, however, is that:\n",
    "\n",
    "1. The search volume for exact match is lower than other match types.\n",
    "\n",
    "2. We can't possibly think of all the ways in which people search, and so, we are probably missing out on some high-quality keywords.\n",
    "\n",
    "So it's good to use another match called phrase match as a discovery mechanism to allow our ads to be triggered by keywords that include our exact match keywords, together with anything before (or after) them.\n",
    "\n",
    "Later on, when we launch the campaign, we can explore with modified broad match, broad match, and negative match types, for better visibility and control of our campaigns."
   ]
  },
  {
   "cell_type": "code",
   "execution_count": 19,
   "metadata": {},
   "outputs": [
    {
     "name": "stdout",
     "output_type": "stream",
     "text": [
      "Ad Group   Criterion Type\n",
      "beds       Exact             70\n",
      "           Phrase            70\n",
      "chairs     Exact             70\n",
      "           Phrase            70\n",
      "sofa beds  Exact             70\n",
      "           Phrase            70\n",
      "sofas      Exact             70\n",
      "           Phrase            70\n",
      "tables     Exact             70\n",
      "           Phrase            70\n",
      "Name: Keyword, dtype: int64\n"
     ]
    }
   ],
   "source": [
    "# Make a copy of the keywords DataFrame\n",
    "keywords_phrase = keywords_df.copy()\n",
    "\n",
    "# Change criterion type match to phrase\n",
    "keywords_phrase['Criterion Type']='Phrase'\n",
    "\n",
    "# Append the DataFrames\n",
    "keywords_df_final = keywords_df.append(keywords_phrase)\n",
    "# Save the final keywords to a CSV file\n",
    "keywords_df.to_csv('keywords.csv', index=False)\n",
    "# View a summary of our campaign work\n",
    "summary = keywords_df_final.groupby(['Ad Group', 'Criterion Type'])['Keyword'].count()\n",
    "print(summary)"
   ]
  },
  {
   "cell_type": "markdown",
   "metadata": {},
   "source": []
  }
 ],
 "metadata": {
  "kernelspec": {
   "display_name": "Python 3",
   "language": "python",
   "name": "python3"
  },
  "language_info": {
   "codemirror_mode": {
    "name": "ipython",
    "version": 3
   },
   "file_extension": ".py",
   "mimetype": "text/x-python",
   "name": "python",
   "nbconvert_exporter": "python",
   "pygments_lexer": "ipython3",
   "version": "3.8.2"
  }
 },
 "nbformat": 4,
 "nbformat_minor": 4
}
